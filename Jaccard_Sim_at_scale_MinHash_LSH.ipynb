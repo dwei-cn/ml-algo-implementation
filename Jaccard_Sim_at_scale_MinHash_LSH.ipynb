{
  "nbformat": 4,
  "nbformat_minor": 0,
  "metadata": {
    "colab": {
      "name": "Jaccard - Sim at scale: MinHash LSH.ipynb",
      "provenance": [],
      "authorship_tag": "ABX9TyMeo88o85kCn1RTkJiDBR2O",
      "include_colab_link": true
    },
    "kernelspec": {
      "name": "python3",
      "display_name": "Python 3"
    },
    "language_info": {
      "name": "python"
    }
  },
  "cells": [
    {
      "cell_type": "markdown",
      "metadata": {
        "id": "view-in-github",
        "colab_type": "text"
      },
      "source": [
        "<a href=\"https://colab.research.google.com/github/dk-wei/ml-algo-implementation/blob/main/Jaccard_Sim_at_scale_MinHash_LSH.ipynb\" target=\"_parent\"><img src=\"https://colab.research.google.com/assets/colab-badge.svg\" alt=\"Open In Colab\"/></a>"
      ]
    },
    {
      "cell_type": "markdown",
      "metadata": {
        "id": "FkfH21RG0Wa3"
      },
      "source": [
        "https://github.com/ekzhu/datasketch"
      ]
    },
    {
      "cell_type": "markdown",
      "metadata": {
        "id": "BexdJ5Qy4ToM"
      },
      "source": [
        "我们做data mining的时候，常常需要借助**Jaccard Similarity**来寻找similar documents. 一般的jaccard similarity是O(N)复杂度，也就是linear的复杂度。我们可以通过MinHash的方法来降低成sub-linear复杂度。\n",
        "\n",
        "注意MinHash方法的结果不是100% accurate的，但是他能保证高jaccard sim的documents容易更露头：**sets with higher Jaccard similarities always have higher probabilities to get returned than sets with lower similarities.**"
      ]
    },
    {
      "cell_type": "markdown",
      "metadata": {
        "id": "Sdlhjves3x6H"
      },
      "source": [
        "Notebook来源：https://github.com/dataviral/LSH-Jaccard/blob/master/IMDB%20Movie%20Review%20-%20Jaccard%20Similarity.ipynb"
      ]
    },
    {
      "cell_type": "code",
      "metadata": {
        "colab": {
          "base_uri": "https://localhost:8080/"
        },
        "id": "i34M54NK0Oyw",
        "outputId": "f5df65a0-add3-4964-f3d9-7c2bc637a779"
      },
      "source": [
        "!pip install datasketch"
      ],
      "execution_count": 2,
      "outputs": [
        {
          "output_type": "stream",
          "name": "stdout",
          "text": [
            "Collecting datasketch\n",
            "  Downloading datasketch-1.5.3-py2.py3-none-any.whl (67 kB)\n",
            "\u001b[?25l\r\u001b[K     |████▉                           | 10 kB 32.1 MB/s eta 0:00:01\r\u001b[K     |█████████▊                      | 20 kB 21.4 MB/s eta 0:00:01\r\u001b[K     |██████████████▋                 | 30 kB 16.5 MB/s eta 0:00:01\r\u001b[K     |███████████████████▌            | 40 kB 15.0 MB/s eta 0:00:01\r\u001b[K     |████████████████████████▎       | 51 kB 7.8 MB/s eta 0:00:01\r\u001b[K     |█████████████████████████████▏  | 61 kB 7.8 MB/s eta 0:00:01\r\u001b[K     |████████████████████████████████| 67 kB 4.4 MB/s \n",
            "\u001b[?25hRequirement already satisfied: numpy>=1.11 in /usr/local/lib/python3.7/dist-packages (from datasketch) (1.19.5)\n",
            "Installing collected packages: datasketch\n",
            "Successfully installed datasketch-1.5.3\n"
          ]
        }
      ]
    },
    {
      "cell_type": "code",
      "metadata": {
        "id": "9RqGCgqR0HWw"
      },
      "source": [
        "import pandas as pd\n",
        "from datasketch import MinHash, MinHashLSH\n",
        "from tqdm import tqdm"
      ],
      "execution_count": 3,
      "outputs": []
    },
    {
      "cell_type": "code",
      "metadata": {
        "colab": {
          "base_uri": "https://localhost:8080/"
        },
        "id": "j1GJDqcN1IZp",
        "outputId": "cd85a605-49e1-438c-eb5e-6cfb656e6edb"
      },
      "source": [
        "# df_purchase = pd.read_csv('purchase data.csv')\n",
        "\n",
        "from google.colab import drive\n",
        "drive.mount('/content/drive')\n",
        "\n",
        "# Load the data, contained in the segmentation data csv file.\n",
        "GD_PATH = '/content/drive/MyDrive/Colab Notebooks/data/'\n",
        "df = pd.read_csv(GD_PATH+'imdb_master.csv', encoding='latin1', index_col = 0)\n"
      ],
      "execution_count": 8,
      "outputs": [
        {
          "output_type": "stream",
          "name": "stdout",
          "text": [
            "Drive already mounted at /content/drive; to attempt to forcibly remount, call drive.mount(\"/content/drive\", force_remount=True).\n"
          ]
        }
      ]
    },
    {
      "cell_type": "code",
      "metadata": {
        "id": "A1M-I3in0N0n"
      },
      "source": [
        "# DATA_PATH = \"imdb_master.csv\" # https://www.kaggle.com/utathya/imdb-review-dataset\n",
        "# df = pd.read_csv(DATA_PATH, encoding='latin1', index_col=0)"
      ],
      "execution_count": 9,
      "outputs": []
    },
    {
      "cell_type": "code",
      "metadata": {
        "id": "NNhsWLhp0Nxz"
      },
      "source": [
        "reviews = dict()\n",
        "new_content = [i for i in df.review.values][:1000]\n",
        "for key, value in enumerate(new_content):\n",
        "    reviews[key] = value"
      ],
      "execution_count": 22,
      "outputs": []
    },
    {
      "cell_type": "code",
      "metadata": {
        "id": "YnCqnwPi0Nu2"
      },
      "source": [
        "lsh = MinHashLSH(\n",
        "    threshold= 0.3, # Jaccard similarity threshold\n",
        "    num_perm=128,   # Number of hash functions\n",
        ")"
      ],
      "execution_count": 41,
      "outputs": []
    },
    {
      "cell_type": "code",
      "metadata": {
        "colab": {
          "base_uri": "https://localhost:8080/"
        },
        "id": "_cs7hoYX0NrO",
        "outputId": "191a62d5-edc9-4dfe-c041-95ed5785056c"
      },
      "source": [
        "for key in tqdm(reviews):\n",
        "    review_hash = MinHash()\n",
        "    # Iterate over words and add to the review specific hash\n",
        "    for word in reviews[key].split(\" \"):\n",
        "        review_hash.update(word.encode(\"utf-8\"))\n",
        "    \n",
        "    # Now insert the review specific hash to lsh object\n",
        "    lsh.insert(key, review_hash)"
      ],
      "execution_count": 42,
      "outputs": [
        {
          "output_type": "stream",
          "name": "stderr",
          "text": [
            "100%|██████████| 1000/1000 [00:04<00:00, 208.86it/s]\n"
          ]
        }
      ]
    },
    {
      "cell_type": "code",
      "metadata": {
        "id": "opyONedQ0NnN"
      },
      "source": [
        "def query(lsh, sentence):\n",
        "    \"\"\" builds the hash for the sentence and query's the hash for similar senteces \"\"\"\n",
        "    sentence_hash = MinHash()\n",
        "    for word in sentence.split(\" \"):\n",
        "        sentence_hash.update(word.encode(\"utf-8\"))\n",
        "    \n",
        "    similar_sentences_ids = lsh.query(sentence_hash)\n",
        "    return similar_sentences_ids"
      ],
      "execution_count": 43,
      "outputs": []
    },
    {
      "cell_type": "code",
      "metadata": {
        "colab": {
          "base_uri": "https://localhost:8080/"
        },
        "id": "TShKrEj60Nj0",
        "outputId": "45a4984a-160f-4584-cd4d-4776dae34a9a"
      },
      "source": [
        "# Pick a sentence in the dataset to use as query senteces\n",
        "query_review_id = 2\n",
        "\n",
        "query_review = reviews[query_review_id] # movie review with key as 1000\n",
        "print(\"Query Sentence: \\n\", query_review)"
      ],
      "execution_count": 44,
      "outputs": [
        {
          "output_type": "stream",
          "name": "stdout",
          "text": [
            "Query Sentence: \n",
            " First of all I hate those moronic rappers, who could'nt act if they had a gun pressed against their foreheads. All they do is curse and shoot each other and acting like clichÃ©'e version of gangsters.<br /><br />The movie doesn't take more than five minutes to explain what is going on before we're already at the warehouse There is not a single sympathetic character in this movie, except for the homeless guy, who is also the only one with half a brain.<br /><br />Bill Paxton and William Sadler are both hill billies and Sadlers character is just as much a villain as the gangsters. I did'nt like him right from the start.<br /><br />The movie is filled with pointless violence and Walter Hills specialty: people falling through windows with glass flying everywhere. There is pretty much no plot and it is a big problem when you root for no-one. Everybody dies, except from Paxton and the homeless guy and everybody get what they deserve.<br /><br />The only two black people that can act is the homeless guy and the junkie but they're actors by profession, not annoying ugly brain dead rappers.<br /><br />Stay away from this crap and watch 48 hours 1 and 2 instead. At lest they have characters you care about, a sense of humor and nothing but real actors in the cast.\n"
          ]
        }
      ]
    },
    {
      "cell_type": "code",
      "metadata": {
        "id": "fVzf--Lk0NbD"
      },
      "source": [
        "# Find all sentences in the dataset similar to the query sentence\n",
        "similar_reviews_ids = query(lsh, query_review)"
      ],
      "execution_count": 45,
      "outputs": []
    },
    {
      "cell_type": "code",
      "metadata": {
        "colab": {
          "base_uri": "https://localhost:8080/"
        },
        "id": "w8PB2vNh0Myy",
        "outputId": "2a374bd3-fa78-457a-a324-45ef1105c2aa"
      },
      "source": [
        "# Show the similar sentences\n",
        "for i, review_id in enumerate(similar_reviews_ids):\n",
        "    if review_id == query_review_id: continue\n",
        "    print(\"Similar review {}:\\n\".format(i))\n",
        "    print(reviews[review_id])\n",
        "    print(\"---------\\n\")"
      ],
      "execution_count": 46,
      "outputs": [
        {
          "output_type": "stream",
          "name": "stdout",
          "text": [
            "Similar review 1:\n",
            "\n",
            "Jeremy Irons and Forrest Whitaker are good actors. But this movie was badly written. First of all, during the hijack scene, Irons sits too comfortably in his chair...he appears to be READING something, and rather calmly too! Perhaps the director shot the actor in between takes? Also, the violence at the hijacking was a big letdown. Slow-mo, bullets flying--how his wife and daughter get killed is just not that interesting and the tension is lost. His grieving afterward wasted another 10 minutes. Then he decided to \"get revenge\" and talk to all his industry journalist friends and ambassadors (he's a journalist for the stuffy Economist rag) and lo and behold, they actually give him tips on where to find the bad guys! How do they know? But what really made me turn the movie off halfway through was when Irons finds his way into a warehouse where baddies are hanging out--BUT NOT THE BADDIES WHO KILLED HIS WIFE--and blows them away anyway. so he's just a murderer. he gets away and, well...I shut it off. I mean I couldn't figure out how his friends knew anything, and also I thought he was after the remaining 2 guys in custody who were the original hijackers. Instead he's going after their friends, I guess, or anyone who hangs out in warehouses and leaves automatic weapons laying around. The suspense was just totally conventional and the dialog was lame (\"it's OK son, crying helps,\" he says to his son. Son says \"no it doesn't\" and father says \"You're right..it doesn't.\")Irons takes on questionable roles--like that one dragon movie he did. He was excellent in Brideshead Revisited, which is a completely different animal than this lukewarm thriller.\n",
            "---------\n",
            "\n",
            "Similar review 2:\n",
            "\n",
            "Okay, it features one lovely blink-and-you-miss-it-joke (when the dead are rising from their tombs, the names of the old time \"horror\" directors like Jacques Tournier and Jean Yarborough are featured in the tombstones) and the smashing of morally bankrupt Repu/con/rightist villains is on-target: whorish skanks preaching morals etc. But why these soldiers are anti-Republicans? Because they have gone to the war, most of them should be Republicans, right? Why they don't go to killing the enemies who killed them or something? Why they ALL want to vote against the Republicans? Why this story has made of a movie? Questions never answered...\n",
            "---------\n",
            "\n",
            "Similar review 3:\n",
            "\n",
            "Earnest effort which achieves some success to adapt the classic Odyssey story to a '30's nostalgia period piece. The adventurers this time are escaped convicts, wandering about the Depression afflicted South bungling their way into trouble.<br /><br />The greatest strength of the film is the wonderful music soundtrack, effectively evoking not only the era that this is set in, but the spiritual references that run rampant in the film. Besides its value to the tone of the movie, the music is just plain fun to listen to.<br /><br />What cripples the film is that the characters really aren't that likable. In a comedy, you need that element in order to have fun along with them in their misadventures. Instead, we have a bunch of selfish, arrogant, soulless, mean spirited nobodies who really have no positive points at all. They're not imposing enough to make you hate them either, so it's hard to relate to them at all. They're offered up as clowns, but like people who put clown makeup on and march in parades, they just aren't funny.<br /><br />Like the story that inspired it, the movie takes these guys on an \"odyssey,\" encountering a variety of symbolic (some even mystical) characters. Everybody is stamped with offensive stereotypes, the operative word being \"stupid.\" People are mocked right and left, and consequently, no one is left being particularly interesting or appealing. The movie doesn't like its own characters, and it doesn't let you like them, either.<br /><br />Riverside baptisms, beautiful sirens, stolen cars, fistfights, radio preachers, people being whipped with sticks; all are thrown at you in disjointed fashion. Some evoke a few laughs, others confuse or bore you. I did laugh when a nerdy guy beat the snot out of an especially obnoxious lead character. But there were a lot more pointlessly gratuitous scenes; an example: some '30's Dillinger-type guy strafes cows with a tommy-gun. Comedy? Symbolism? No; just mindless violence, which detracts from the intellectual nature of the original source material this story draws upon.<br /><br />Other adaptations of the Odyssey are much better. Unless you're a George Clooney fan, rent something else. But buy the soundtrack CD; the music is great.\n",
            "---------\n",
            "\n",
            "Similar review 4:\n",
            "\n",
            "When a rocket from a government experiment on the effects of cosmic rays on animals crashes in a small Texas town, people start to die. The county sheriff tries to investigate but is hampered in his efforts by other government officials. It turns out that there is a mutant space gorilla on the loose killing teenagers in the woods.<br /><br />I like low budget science fiction and horror movies. I like monster movies. So I thought that there would be a good chance that I would like this movie. Sadly, I didn't.<br /><br />I don't mind the bad acting, the corny dialog, the atrocious musical score or the giant plot holes that this movie has. There are a lot of movies that have the same problems that I have seen and enjoyed in a so bad it's good kind of way.<br /><br />But where others of that type and Night Fright differ is that Night Fright just has terrible pacing. And it drags on because of that. There are scenes that just go on and on without anything happening-the searching the woods for clues is just people walking in the forest for a long time; there are several seemingly endless dancing teens at a party in the woods...but nothing interesting is going on. If these scenes were shorter, the movie might not have been as boring (though I don't think simply cutting those scenes would save this one).<br /><br />I have now given this movie three viewings to make sure that I gave it a chance before slamming it in this review. Sadly, it has gotten worse with each watch. There won't be a fourth.\n",
            "---------\n",
            "\n"
          ]
        }
      ]
    },
    {
      "cell_type": "code",
      "metadata": {
        "id": "4eZMa9X30Mtj"
      },
      "source": [
        ""
      ],
      "execution_count": 40,
      "outputs": []
    }
  ]
}